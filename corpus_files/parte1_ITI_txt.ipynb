{
  "nbformat": 4,
  "nbformat_minor": 0,
  "metadata": {
    "colab": {
      "name": "parte1_ITI-txt.ipynb",
      "provenance": [],
      "collapsed_sections": []
    },
    "kernelspec": {
      "name": "python3",
      "display_name": "Python 3"
    },
    "language_info": {
      "name": "python"
    }
  },
  "cells": [
    {
      "cell_type": "code",
      "metadata": {
        "id": "Z6Vp8PvcdQsy"
      },
      "source": [
        "# Importando bibliotecas\n",
        "import time\n",
        "import struct\n",
        "import filecmp\n",
        "from tqdm import tqdm\n",
        "import matplotlib.pyplot as plt\n",
        "import matplotlib.ticker as ticker"
      ],
      "execution_count": null,
      "outputs": []
    },
    {
      "cell_type": "code",
      "metadata": {
        "id": "cOUj7hcddXQl"
      },
      "source": [
        "# Lendo arquivo\n",
        "arqOriginal = open(\"corpus16MB.txt\", \"rb\").read()\n",
        "arqOriginal = arqOriginal.decode('ISO-8859-1')"
      ],
      "execution_count": null,
      "outputs": []
    },
    {
      "cell_type": "code",
      "metadata": {
        "id": "2tX2vioGh1nN"
      },
      "source": [
        "# Declarando parametros\n",
        "k = []\n",
        "rc = []\n",
        "rcIdeal = []\n",
        "tempoProc = []"
      ],
      "execution_count": null,
      "outputs": []
    },
    {
      "cell_type": "markdown",
      "metadata": {
        "id": "DunXQQKetuRp"
      },
      "source": [
        "# LZW \n",
        "É um algoritmo de codificação de palavras cuja idéia principal\n",
        "é ir construindo um dicionário de símbolos ou palavras conforme a\n",
        "informação (neste caso texto) vai sendo processado pelo algoritmo. No início da codificação, o dicionário LZW possui inicialmente como palavras apenas os 256 caracteres da tabela ASCII.\n",
        "\n",
        "Durante o processo de análise, o dicionário vai criando novas palavras\n",
        "a partir de combinações de pelo menos 2 caracteres encontrados no texto. A cada nova combinação encontrada, é criada uma nova entrada no dicionário que será utilizada para codificações futuras. Ao final do processo de codificação, teremos um dicionário de combinações de palavras que poderá ser utilizado para codificar o texto, possivelmente reduzindo a quantidade de espaço gasto para seu\n",
        "armazenamento."
      ]
    },
    {
      "cell_type": "code",
      "metadata": {
        "colab": {
          "base_uri": "https://localhost:8080/"
        },
        "id": "yFZUOMY0h7Pb",
        "outputId": "f88ba4e3-cac2-446e-927f-e7102c6c3111"
      },
      "source": [
        "# implementação do LZW\n",
        "# COMPRESSOR\n",
        "for K in range(9,17): # percorre os valores de K solicitados 9 a 16\n",
        "    \n",
        "    comeco = time.time()\n",
        "    dicionario = {}\n",
        "    novoValor = 256\n",
        "    arqComprimido = []\n",
        "    novo = ''\n",
        "    velho = ''\n",
        "\n",
        "    for i in range(2**8):\n",
        "        dicionario[i.to_bytes(1, 'big')] = i\n",
        "\n",
        "    for letra in tqdm(arqOriginal):\n",
        "        novo = velho + letra\n",
        "        \n",
        "        if novo.encode('ISO-8859-1') not in dicionario: \n",
        "            if len(dicionario) < 2**K:\n",
        "                dicionario[novo.encode('ISO-8859-1')] = novoValor\n",
        "                novoValor += 1\n",
        "            \n",
        "            numCod = dicionario[velho.encode('ISO-8859-1')]\n",
        "            arqComprimido.append(numCod)\n",
        "            velho = letra\n",
        "\n",
        "        else:\n",
        "            velho = novo\n",
        "\n",
        "    numCod = dicionario[velho.encode('ISO-8859-1')]\n",
        "    arqComprimido.append(numCod)\n",
        "    \n",
        "    final = time.time()\n",
        "    \n",
        "    outFile = open(\"saidaCompressao\\saidaComprimida\" + str(K) + \".txt\" , \"wb\")\n",
        "    \n",
        "    for i in arqComprimido:\n",
        "        outFile.write(struct.pack('H', i))\n",
        "        \n",
        "    print('K = %d  ||  Tamanho: %d -> %d' %(K,len(arqOriginal),len(arqComprimido)))\n",
        "    print('=======================================================================')\n",
        "\n",
        "    rc.append(8/(len(arqComprimido) * 16 / len(arqOriginal))) \n",
        "    rcIdeal.append(8/(len(arqComprimido) * K / len(arqOriginal))) \n",
        "    \n",
        "    tempoProc.append(final-comeco)\n",
        "    \n",
        "    outFile.close()\n",
        "\n",
        "    k.append(K)"
      ],
      "execution_count": null,
      "outputs": [
        {
          "output_type": "stream",
          "name": "stderr",
          "text": [
            "100%|██████████| 15637138/15637138 [00:17<00:00, 881731.34it/s]\n"
          ]
        },
        {
          "output_type": "stream",
          "name": "stdout",
          "text": [
            "K = 9  ||  Tamanho: 15637138 -> 9046854\n",
            "=======================================================================\n"
          ]
        },
        {
          "output_type": "stream",
          "name": "stderr",
          "text": [
            "100%|██████████| 15637138/15637138 [00:16<00:00, 960521.25it/s]\n"
          ]
        },
        {
          "output_type": "stream",
          "name": "stdout",
          "text": [
            "K = 10  ||  Tamanho: 15637138 -> 7338381\n",
            "=======================================================================\n"
          ]
        },
        {
          "output_type": "stream",
          "name": "stderr",
          "text": [
            "100%|██████████| 15637138/15637138 [00:16<00:00, 955453.83it/s]\n"
          ]
        },
        {
          "output_type": "stream",
          "name": "stdout",
          "text": [
            "K = 11  ||  Tamanho: 15637138 -> 6134026\n",
            "=======================================================================\n"
          ]
        },
        {
          "output_type": "stream",
          "name": "stderr",
          "text": [
            "100%|██████████| 15637138/15637138 [00:15<00:00, 988548.86it/s]\n"
          ]
        },
        {
          "output_type": "stream",
          "name": "stdout",
          "text": [
            "K = 12  ||  Tamanho: 15637138 -> 5330170\n",
            "=======================================================================\n"
          ]
        },
        {
          "output_type": "stream",
          "name": "stderr",
          "text": [
            "100%|██████████| 15637138/15637138 [00:15<00:00, 998156.14it/s] \n"
          ]
        },
        {
          "output_type": "stream",
          "name": "stdout",
          "text": [
            "K = 13  ||  Tamanho: 15637138 -> 4712040\n",
            "=======================================================================\n"
          ]
        },
        {
          "output_type": "stream",
          "name": "stderr",
          "text": [
            "100%|██████████| 15637138/15637138 [00:15<00:00, 1017617.95it/s]\n"
          ]
        },
        {
          "output_type": "stream",
          "name": "stdout",
          "text": [
            "K = 14  ||  Tamanho: 15637138 -> 4199068\n",
            "=======================================================================\n"
          ]
        },
        {
          "output_type": "stream",
          "name": "stderr",
          "text": [
            "100%|██████████| 15637138/15637138 [00:15<00:00, 977522.49it/s]\n"
          ]
        },
        {
          "output_type": "stream",
          "name": "stdout",
          "text": [
            "K = 15  ||  Tamanho: 15637138 -> 3766604\n",
            "=======================================================================\n"
          ]
        },
        {
          "output_type": "stream",
          "name": "stderr",
          "text": [
            "100%|██████████| 15637138/15637138 [00:16<00:00, 951055.99it/s]\n"
          ]
        },
        {
          "output_type": "stream",
          "name": "stdout",
          "text": [
            "K = 16  ||  Tamanho: 15637138 -> 3396767\n",
            "=======================================================================\n"
          ]
        }
      ]
    },
    {
      "cell_type": "markdown",
      "metadata": {
        "id": "DegDgT_6td-V"
      },
      "source": [
        "# Gerando Gráficos "
      ]
    },
    {
      "cell_type": "code",
      "metadata": {
        "colab": {
          "base_uri": "https://localhost:8080/",
          "height": 441
        },
        "id": "u6_UGoXJlG0d",
        "outputId": "97d34b1e-aea4-4412-98ac-341c7d71b116"
      },
      "source": [
        "# Gráfico da razao de compressão Real X K \n",
        "fig, ax = plt.subplots(nrows=1, ncols=2,figsize=(10, 6))\n",
        "ax[0].plot(k, rc, 'go-', linewidth=2, markersize=8)\n",
        "ax[0].xaxis.set_major_locator(ticker.MultipleLocator(1))\n",
        "ax[0].set(xlabel='K', ylabel='RC', title='Razão de Compressão REAL pelo K')\n",
        "ax[0].grid()\n",
        "\n",
        "# Gráfico da Razão de Compressão Ideal X K\n",
        "ax[1].plot(k, rcIdeal, 'go-', linewidth=2, markersize=8)\n",
        "ax[1].xaxis.set_major_locator(ticker.MultipleLocator(1))\n",
        "ax[1].set(xlabel='K', ylabel='RC', title='Razão de Compressão IDEAL pelo K')\n",
        "ax[1].grid()\n",
        "\n",
        "plt.tight_layout()\n",
        "plt.show()\n"
      ],
      "execution_count": null,
      "outputs": [
        {
          "output_type": "display_data",
          "data": {
            "image/png": "[encoded data removed]",
            "text/plain": [
              "<Figure size 720x432 with 2 Axes>"
            ]
          },
          "metadata": {
            "needs_background": "light"
          }
        }
      ]
    },
    {
      "cell_type": "code",
      "metadata": {
        "colab": {
          "base_uri": "https://localhost:8080/",
          "height": 295
        },
        "id": "76KikU19mGKq",
        "outputId": "1d9eb068-386c-4966-f7c3-1c1f0346de0a"
      },
      "source": [
        "# Gerando gráfico Tempo X K\n",
        "fig, bx = plt.subplots()\n",
        "bx.plot(k, tempoProc, 'go-', linewidth=2, markersize=8)\n",
        "bx.xaxis.set_major_locator(ticker.MultipleLocator(1))\n",
        "bx.set(xlabel='K', ylabel='Tempo em segundos', title='Gráfico do tempo pelo K')\n",
        "bx.grid()\n",
        "plt.show()"
      ],
      "execution_count": null,
      "outputs": [
        {
          "output_type": "display_data",
          "data": {
            "image/png": "[encoded data removed]",
            "text/plain": [
              "<Figure size 432x288 with 1 Axes>"
            ]
          },
          "metadata": {
            "needs_background": "light"
          }
        }
      ]
    },
    {
      "cell_type": "code",
      "metadata": {
        "colab": {
          "base_uri": "https://localhost:8080/"
        },
        "id": "mVefadxpmasb",
        "outputId": "b758e30a-24ca-465a-e2a7-61ec02c6723b"
      },
      "source": [
        "# implementação do LZW\n",
        "# DESCOMPRESSOR\n",
        "for K in range(9,17):\n",
        "    arqModificado = open(\"saidaCompressao\\saidaComprimida\" + str(K) + \".txt\", \"rb\").read()\n",
        "    msgInt = []\n",
        "    newKey = 256\n",
        "    comeco = time.time()\n",
        "    descomprimida = ''\n",
        "    dicionario = {}\n",
        "    \n",
        "    for i in range(0,len(arqModificado),2):\n",
        "        arr = bytearray([arqModificado[i],arqModificado[i+1]])\n",
        "        msgInt.append(struct.unpack('H', arr)[0])\n",
        "\n",
        "    for i in range(2**8):\n",
        "        dicionario[i] = chr(i)  \n",
        "\n",
        "    for i in tqdm(msgInt):\n",
        "        if len(dicionario) <= 2**K:\n",
        "            # update do elemento anterior\n",
        "            if newKey > 256:   \n",
        "                dicionario[newKey-1] += dicionario[i][0]\n",
        "        descomprimida += dicionario[i]\n",
        "        # criação elemento atual \n",
        "        dicionario[newKey] = dicionario[i]  \n",
        "        newKey += 1\n",
        "\n",
        "    final = time.time()\n",
        "\n",
        "    outFile = open(\"saidaDEScompressao\\saidaDescomprimida\" + str(K) + \".txt\" , \"wb\")\n",
        "    for i in descomprimida:\n",
        "        outFile.write(struct.pack('B', ord(i)))\n",
        "\n",
        "    tempoProc.append(final-comeco)\n",
        "    \n",
        "    print('K = %d  ||  Tamanho: %d -> %d' %(K,len(msgInt),len(descomprimida)))\n",
        "    print('Tempo %f segundos\\n' % (final-comeco))\n",
        "    print('=======================================================================')\n",
        "\n",
        "    outFile.close()\n"
      ],
      "execution_count": null,
      "outputs": [
        {
          "output_type": "stream",
          "name": "stderr",
          "text": [
            "100%|██████████| 9046854/9046854 [00:09<00:00, 911428.29it/s]\n"
          ]
        },
        {
          "output_type": "stream",
          "name": "stdout",
          "text": [
            "K = 9  ||  Tamanho: 9046854 -> 15637138\n",
            "Tempo 16.941451 segundos\n",
            "\n",
            "=======================================================================\n"
          ]
        },
        {
          "output_type": "stream",
          "name": "stderr",
          "text": [
            "100%|██████████| 7338381/7338381 [00:07<00:00, 955655.53it/s] \n"
          ]
        },
        {
          "output_type": "stream",
          "name": "stdout",
          "text": [
            "K = 10  ||  Tamanho: 7338381 -> 15637138\n",
            "Tempo 13.096710 segundos\n",
            "\n",
            "=======================================================================\n"
          ]
        },
        {
          "output_type": "stream",
          "name": "stderr",
          "text": [
            "100%|██████████| 6134026/6134026 [00:06<00:00, 920137.62it/s]\n"
          ]
        },
        {
          "output_type": "stream",
          "name": "stdout",
          "text": [
            "K = 11  ||  Tamanho: 6134026 -> 15637138\n",
            "Tempo 11.167416 segundos\n",
            "\n",
            "=======================================================================\n"
          ]
        },
        {
          "output_type": "stream",
          "name": "stderr",
          "text": [
            "100%|██████████| 5330170/5330170 [00:05<00:00, 913810.41it/s]\n"
          ]
        },
        {
          "output_type": "stream",
          "name": "stdout",
          "text": [
            "K = 12  ||  Tamanho: 5330170 -> 15637138\n",
            "Tempo 9.761962 segundos\n",
            "\n",
            "=======================================================================\n"
          ]
        },
        {
          "output_type": "stream",
          "name": "stderr",
          "text": [
            "100%|██████████| 4712040/4712040 [00:05<00:00, 861184.25it/s]\n"
          ]
        },
        {
          "output_type": "stream",
          "name": "stdout",
          "text": [
            "K = 13  ||  Tamanho: 4712040 -> 15637138\n",
            "Tempo 8.966078 segundos\n",
            "\n",
            "=======================================================================\n"
          ]
        },
        {
          "output_type": "stream",
          "name": "stderr",
          "text": [
            "100%|██████████| 4199068/4199068 [00:05<00:00, 837292.24it/s]\n"
          ]
        },
        {
          "output_type": "stream",
          "name": "stdout",
          "text": [
            "K = 14  ||  Tamanho: 4199068 -> 15637138\n",
            "Tempo 8.113122 segundos\n",
            "\n",
            "=======================================================================\n"
          ]
        },
        {
          "output_type": "stream",
          "name": "stderr",
          "text": [
            "100%|██████████| 3766604/3766604 [00:04<00:00, 791325.44it/s]\n"
          ]
        },
        {
          "output_type": "stream",
          "name": "stdout",
          "text": [
            "K = 15  ||  Tamanho: 3766604 -> 15637138\n",
            "Tempo 7.725772 segundos\n",
            "\n",
            "=======================================================================\n"
          ]
        },
        {
          "output_type": "stream",
          "name": "stderr",
          "text": [
            "100%|██████████| 3396767/3396767 [00:04<00:00, 750477.95it/s]\n"
          ]
        },
        {
          "output_type": "stream",
          "name": "stdout",
          "text": [
            "K = 16  ||  Tamanho: 3396767 -> 15637138\n",
            "Tempo 7.076141 segundos\n",
            "\n",
            "=======================================================================\n"
          ]
        }
      ]
    },
    {
      "cell_type": "code",
      "metadata": {
        "colab": {
          "base_uri": "https://localhost:8080/"
        },
        "id": "uZU564tW6rVB",
        "outputId": "e756d376-d9cd-4dee-962f-9fe17bf8329b"
      },
      "source": [
        "filecmp.cmp('corpus16MB.txt', \"saidaDEScompressao\\saidaDescomprimida9.txt\")"
      ],
      "execution_count": null,
      "outputs": [
        {
          "output_type": "execute_result",
          "data": {
            "text/plain": [
              "True"
            ]
          },
          "metadata": {},
          "execution_count": 122
        }
      ]
    }
  ]
}
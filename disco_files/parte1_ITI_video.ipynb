{
  "nbformat": 4,
  "nbformat_minor": 0,
  "metadata": {
    "colab": {
      "name": "parte1_ITI-video.ipynb",
      "provenance": []
    },
    "kernelspec": {
      "name": "python3",
      "display_name": "Python 3"
    },
    "language_info": {
      "name": "python"
    }
  },
  "cells": [
    {
      "cell_type": "code",
      "metadata": {
        "id": "2Au3xd4srhMh"
      },
      "source": [
        "# Importando bibliotecas\n",
        "import time\n",
        "import struct\n",
        "import filecmp\n",
        "from tqdm import tqdm\n",
        "import matplotlib.pyplot as plt\n",
        "import matplotlib.ticker as ticker"
      ],
      "execution_count": 17,
      "outputs": []
    },
    {
      "cell_type": "code",
      "metadata": {
        "id": "sZ-ha8Nz5gev"
      },
      "source": [
        "# Lendo arquivo\n",
        "arqOriginal = open(\"disco.mp4\", \"rb\").read()\n",
        "arqOriginal = arqOriginal.decode('ISO-8859-1')"
      ],
      "execution_count": 18,
      "outputs": []
    },
    {
      "cell_type": "code",
      "metadata": {
        "id": "XNZWo23Z58iV"
      },
      "source": [
        "# Declarando parametros\n",
        "k = []\n",
        "rc = []\n",
        "rcIdeal = []\n",
        "tempoProc = []"
      ],
      "execution_count": 19,
      "outputs": []
    },
    {
      "cell_type": "code",
      "metadata": {
        "colab": {
          "base_uri": "https://localhost:8080/"
        },
        "id": "NrIlsh9_6TNO",
        "outputId": "84fd9a34-0b76-48b1-b314-af69b31c12fb"
      },
      "source": [
        "# implementação do LZW\n",
        "# COMPRESSOR\n",
        "for K in range(9,17): # percorre os valores de K solicitados 9 a 16\n",
        "    \n",
        "    comeco = time.time()\n",
        "    dicionario = {}\n",
        "    novoValor = 256\n",
        "    arqComprimido = []\n",
        "    novo = ''\n",
        "    velho = ''\n",
        "\n",
        "    for i in range(2**8):\n",
        "        dicionario[i.to_bytes(1, 'big')] = i\n",
        "\n",
        "    for letra in tqdm(arqOriginal):\n",
        "        novo = velho + letra\n",
        "        \n",
        "        if novo.encode('ISO-8859-1') not in dicionario: \n",
        "            if len(dicionario) < 2**K:\n",
        "                dicionario[novo.encode('ISO-8859-1')] = novoValor\n",
        "                novoValor += 1\n",
        "            \n",
        "            numCod = dicionario[velho.encode('ISO-8859-1')]\n",
        "            arqComprimido.append(numCod)\n",
        "            velho = letra\n",
        "\n",
        "        else:\n",
        "            velho = novo\n",
        "\n",
        "    numCod = dicionario[velho.encode('ISO-8859-1')]\n",
        "    arqComprimido.append(numCod)\n",
        "    \n",
        "    final = time.time()\n",
        "    \n",
        "    outFile = open(\"saidaCompressao\\saidaComprimida\" + str(K) + \".mp4\" , \"wb\")\n",
        "    \n",
        "    for i in arqComprimido:\n",
        "        outFile.write(struct.pack('H', i))\n",
        "        \n",
        "    print('K = %d  ||  Tamanho: %d -> %d' %(K,len(arqOriginal),len(arqComprimido)))\n",
        "    print('=======================================================================')\n",
        "\n",
        "    rc.append(8/(len(arqComprimido) * 16 / len(arqOriginal))) \n",
        "    rcIdeal.append(8/(len(arqComprimido) * K / len(arqOriginal))) \n",
        "    \n",
        "    tempoProc.append(final-comeco)\n",
        "    \n",
        "    outFile.close()\n",
        "\n",
        "    k.append(K)"
      ],
      "execution_count": 20,
      "outputs": [
        {
          "output_type": "stream",
          "name": "stderr",
          "text": [
            "100%|██████████| 2111047/2111047 [00:03<00:00, 591329.66it/s]\n"
          ]
        },
        {
          "output_type": "stream",
          "name": "stdout",
          "text": [
            "K = 9  ||  Tamanho: 2111047 -> 2097699\n",
            "=======================================================================\n"
          ]
        },
        {
          "output_type": "stream",
          "name": "stderr",
          "text": [
            "100%|██████████| 2111047/2111047 [00:03<00:00, 599743.44it/s]\n"
          ]
        },
        {
          "output_type": "stream",
          "name": "stdout",
          "text": [
            "K = 10  ||  Tamanho: 2111047 -> 2090702\n",
            "=======================================================================\n"
          ]
        },
        {
          "output_type": "stream",
          "name": "stderr",
          "text": [
            "100%|██████████| 2111047/2111047 [00:03<00:00, 598840.74it/s]\n"
          ]
        },
        {
          "output_type": "stream",
          "name": "stdout",
          "text": [
            "K = 11  ||  Tamanho: 2111047 -> 2081530\n",
            "=======================================================================\n"
          ]
        },
        {
          "output_type": "stream",
          "name": "stderr",
          "text": [
            "100%|██████████| 2111047/2111047 [00:03<00:00, 604196.30it/s]\n"
          ]
        },
        {
          "output_type": "stream",
          "name": "stdout",
          "text": [
            "K = 12  ||  Tamanho: 2111047 -> 2069378\n",
            "=======================================================================\n"
          ]
        },
        {
          "output_type": "stream",
          "name": "stderr",
          "text": [
            "100%|██████████| 2111047/2111047 [00:03<00:00, 606601.84it/s]\n"
          ]
        },
        {
          "output_type": "stream",
          "name": "stdout",
          "text": [
            "K = 13  ||  Tamanho: 2111047 -> 1959288\n",
            "=======================================================================\n"
          ]
        },
        {
          "output_type": "stream",
          "name": "stderr",
          "text": [
            "100%|██████████| 2111047/2111047 [00:03<00:00, 610026.53it/s]\n"
          ]
        },
        {
          "output_type": "stream",
          "name": "stdout",
          "text": [
            "K = 14  ||  Tamanho: 2111047 -> 1772621\n",
            "=======================================================================\n"
          ]
        },
        {
          "output_type": "stream",
          "name": "stderr",
          "text": [
            "100%|██████████| 2111047/2111047 [00:03<00:00, 612301.77it/s]\n"
          ]
        },
        {
          "output_type": "stream",
          "name": "stdout",
          "text": [
            "K = 15  ||  Tamanho: 2111047 -> 1520385\n",
            "=======================================================================\n"
          ]
        },
        {
          "output_type": "stream",
          "name": "stderr",
          "text": [
            "100%|██████████| 2111047/2111047 [00:03<00:00, 625515.34it/s]\n"
          ]
        },
        {
          "output_type": "stream",
          "name": "stdout",
          "text": [
            "K = 16  ||  Tamanho: 2111047 -> 1289578\n",
            "=======================================================================\n"
          ]
        }
      ]
    },
    {
      "cell_type": "markdown",
      "metadata": {
        "id": "yBmGYyaCMmQx"
      },
      "source": [
        "# Gerando Gráficos "
      ]
    },
    {
      "cell_type": "code",
      "metadata": {
        "colab": {
          "base_uri": "https://localhost:8080/",
          "height": 441
        },
        "id": "0Eyx5hP-MgY0",
        "outputId": "e2fcc1c9-ff10-4040-e5f0-caced37048ec"
      },
      "source": [
        "# Gráfico da razao de compressão Real X K \n",
        "fig, ax = plt.subplots(nrows=1, ncols=2,figsize=(10, 6))\n",
        "ax[0].plot(k, rc, 'go-', linewidth=2, markersize=8)\n",
        "ax[0].xaxis.set_major_locator(ticker.MultipleLocator(1))\n",
        "ax[0].set(xlabel='K', ylabel='RC', title='Razão de Compressão REAL pelo K')\n",
        "ax[0].grid()\n",
        "\n",
        "# Gráfico da Razão de Compressão Ideal X K\n",
        "ax[1].plot(k, rcIdeal, 'go-', linewidth=2, markersize=8)\n",
        "ax[1].xaxis.set_major_locator(ticker.MultipleLocator(1))\n",
        "ax[1].set(xlabel='K', ylabel='RC', title='Razão de Compressão IDEAL pelo K')\n",
        "ax[1].grid()\n",
        "\n",
        "plt.tight_layout()\n",
        "plt.show()"
      ],
      "execution_count": 21,
      "outputs": [
        {
          "output_type": "display_data",
          "data": {
            "image/png": "[encoded data removed]",
            "text/plain": [
              "<Figure size 720x432 with 2 Axes>"
            ]
          },
          "metadata": {
            "needs_background": "light"
          }
        }
      ]
    },
    {
      "cell_type": "code",
      "metadata": {
        "colab": {
          "base_uri": "https://localhost:8080/",
          "height": 295
        },
        "id": "mzVVhqDxNCwh",
        "outputId": "c6423668-d313-4d88-be7b-7f788c8dc7b1"
      },
      "source": [
        "# Gerando gráfico Tempo X K\n",
        "fig, bx = plt.subplots()\n",
        "bx.plot(k, tempoProc, 'go-', linewidth=2, markersize=8)\n",
        "bx.xaxis.set_major_locator(ticker.MultipleLocator(1))\n",
        "bx.set(xlabel='K', ylabel='Tempo em segundos', title='Gráfico do tempo pelo K')\n",
        "bx.grid()\n",
        "plt.show()"
      ],
      "execution_count": 22,
      "outputs": [
        {
          "output_type": "display_data",
          "data": {
            "image/png": "[encoded data removed]",
            "text/plain": [
              "<Figure size 432x288 with 1 Axes>"
            ]
          },
          "metadata": {
            "needs_background": "light"
          }
        }
      ]
    },
    {
      "cell_type": "code",
      "metadata": {
        "colab": {
          "base_uri": "https://localhost:8080/"
        },
        "id": "olDHuJCdNZRR",
        "outputId": "7f117fb1-a148-44cb-cc38-5fd71aff0682"
      },
      "source": [
        "# implementação do LZW\n",
        "# DESCOMPRESSOR\n",
        "for K in range(9,17):\n",
        "    arqModificado = open(\"saidaCompressao\\saidaComprimida\" + str(K) + \".mp4\", \"rb\").read()\n",
        "    msgInt = []\n",
        "    newKey = 256\n",
        "    comeco = time.time()\n",
        "    descomprimida = ''\n",
        "    dicionario = {}\n",
        "    \n",
        "    for i in range(0,len(arqModificado),2):\n",
        "        arr = bytearray([arqModificado[i],arqModificado[i+1]])\n",
        "        msgInt.append(struct.unpack('H', arr)[0])\n",
        "\n",
        "    for i in range(2**8):\n",
        "        dicionario[i] = chr(i)  \n",
        "\n",
        "    for i in tqdm(msgInt):\n",
        "        if len(dicionario) <= 2**K:\n",
        "            # update do elemento anterior\n",
        "            if newKey > 256:   \n",
        "                dicionario[newKey-1] += dicionario[i][0]\n",
        "        descomprimida += dicionario[i]\n",
        "        # criação elemento atual \n",
        "        dicionario[newKey] = dicionario[i]  \n",
        "        newKey += 1\n",
        "\n",
        "    final = time.time()\n",
        "\n",
        "    outFile = open(\"saidaDEScompressao\\saidaDescomprimida\" + str(K) + \".mp4\" , \"wb\")\n",
        "    for i in descomprimida:\n",
        "        outFile.write(struct.pack('B', ord(i)))\n",
        "\n",
        "    tempoProc.append(final-comeco)\n",
        "    \n",
        "    print('K = %d  ||  Tamanho: %d -> %d' %(K,len(msgInt),len(descomprimida)))\n",
        "    print('Tempo %f segundos\\n' % (final-comeco))\n",
        "    print('=======================================================================')\n",
        "\n",
        "    outFile.close()\n"
      ],
      "execution_count": 23,
      "outputs": [
        {
          "output_type": "stream",
          "name": "stderr",
          "text": [
            "100%|██████████| 2097699/2097699 [00:02<00:00, 821225.64it/s]\n"
          ]
        },
        {
          "output_type": "stream",
          "name": "stdout",
          "text": [
            "K = 9  ||  Tamanho: 2097699 -> 2111047\n",
            "Tempo 4.357742 segundos\n",
            "\n",
            "=======================================================================\n"
          ]
        },
        {
          "output_type": "stream",
          "name": "stderr",
          "text": [
            "100%|██████████| 2090702/2090702 [00:02<00:00, 835257.53it/s]\n"
          ]
        },
        {
          "output_type": "stream",
          "name": "stdout",
          "text": [
            "K = 10  ||  Tamanho: 2090702 -> 2111047\n",
            "Tempo 4.282063 segundos\n",
            "\n",
            "=======================================================================\n"
          ]
        },
        {
          "output_type": "stream",
          "name": "stderr",
          "text": [
            "100%|██████████| 2081530/2081530 [00:02<00:00, 822467.63it/s]\n"
          ]
        },
        {
          "output_type": "stream",
          "name": "stdout",
          "text": [
            "K = 11  ||  Tamanho: 2081530 -> 2111047\n",
            "Tempo 4.297838 segundos\n",
            "\n",
            "=======================================================================\n"
          ]
        },
        {
          "output_type": "stream",
          "name": "stderr",
          "text": [
            "100%|██████████| 2069378/2069378 [00:02<00:00, 829173.15it/s]\n"
          ]
        },
        {
          "output_type": "stream",
          "name": "stdout",
          "text": [
            "K = 12  ||  Tamanho: 2069378 -> 2111047\n",
            "Tempo 4.241992 segundos\n",
            "\n",
            "=======================================================================\n"
          ]
        },
        {
          "output_type": "stream",
          "name": "stderr",
          "text": [
            "100%|██████████| 1959288/1959288 [00:02<00:00, 789387.31it/s]\n"
          ]
        },
        {
          "output_type": "stream",
          "name": "stdout",
          "text": [
            "K = 13  ||  Tamanho: 1959288 -> 2111047\n",
            "Tempo 4.155710 segundos\n",
            "\n",
            "=======================================================================\n"
          ]
        },
        {
          "output_type": "stream",
          "name": "stderr",
          "text": [
            "100%|██████████| 1772621/1772621 [00:02<00:00, 769231.39it/s]\n"
          ]
        },
        {
          "output_type": "stream",
          "name": "stdout",
          "text": [
            "K = 14  ||  Tamanho: 1772621 -> 2111047\n",
            "Tempo 3.829540 segundos\n",
            "\n",
            "=======================================================================\n"
          ]
        },
        {
          "output_type": "stream",
          "name": "stderr",
          "text": [
            "100%|██████████| 1520385/1520385 [00:02<00:00, 691594.56it/s]\n"
          ]
        },
        {
          "output_type": "stream",
          "name": "stdout",
          "text": [
            "K = 15  ||  Tamanho: 1520385 -> 2111047\n",
            "Tempo 3.553081 segundos\n",
            "\n",
            "=======================================================================\n"
          ]
        },
        {
          "output_type": "stream",
          "name": "stderr",
          "text": [
            "100%|██████████| 1289578/1289578 [00:01<00:00, 665499.96it/s]\n"
          ]
        },
        {
          "output_type": "stream",
          "name": "stdout",
          "text": [
            "K = 16  ||  Tamanho: 1289578 -> 2111047\n",
            "Tempo 3.072433 segundos\n",
            "\n",
            "=======================================================================\n"
          ]
        }
      ]
    },
    {
      "cell_type": "code",
      "metadata": {
        "colab": {
          "base_uri": "https://localhost:8080/"
        },
        "id": "mUfRXn4DNy_5",
        "outputId": "223a758e-a265-4485-ad0c-c2b8fa37729d"
      },
      "source": [
        "for i in tqdm(range(len(arqOriginal))):\n",
        "    if(arqOriginal[i] != descomprimida[i]):\n",
        "        string = arqOriginal[i-1] + arqOriginal[i] + arqOriginal[i+1]\n",
        "        string2 = descomprimida[i-1] + arqOriginal[i] + arqOriginal[i+1]\n",
        "        print(string, \" \", string2)"
      ],
      "execution_count": 24,
      "outputs": [
        {
          "output_type": "stream",
          "name": "stderr",
          "text": [
            "100%|██████████| 2111047/2111047 [00:00<00:00, 2187748.80it/s]\n"
          ]
        }
      ]
    },
    {
      "cell_type": "code",
      "metadata": {
        "colab": {
          "base_uri": "https://localhost:8080/"
        },
        "id": "L7z__BvGPWmy",
        "outputId": "50a1f974-722c-47f1-db96-2086088ec8ab"
      },
      "source": [
        "filecmp.cmp('disco.mp4', \"saidaDEScompressao\\saidaDescomprimida16.mp4\")"
      ],
      "execution_count": 25,
      "outputs": [
        {
          "output_type": "execute_result",
          "data": {
            "text/plain": [
              "True"
            ]
          },
          "metadata": {},
          "execution_count": 25
        }
      ]
    }
  ]
}